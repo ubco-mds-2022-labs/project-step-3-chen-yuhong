{
 "cells": [
  {
   "cell_type": "code",
   "execution_count": 183,
   "id": "7179088e-1fdf-482f-99f4-3b439815e0be",
   "metadata": {},
   "outputs": [],
   "source": [
    "class character():\n",
    "    def __init__(self, health, power):\n",
    "        self.health = health\n",
    "        self.power = power\n",
    "    def display(self):\n",
    "        print(\"Health: {}, power: {}\".format(self.health, self.power) )"
   ]
  },
  {
   "cell_type": "code",
   "execution_count": 151,
   "id": "664d2fee-cebf-46fa-87a1-721f13bdd3d8",
   "metadata": {},
   "outputs": [
    {
     "name": "stdout",
     "output_type": "stream",
     "text": [
      "Health: 100, power: 110\n"
     ]
    }
   ],
   "source": [
    "#test\n",
    "c1 = character(100, 110)\n",
    "c1.display()"
   ]
  },
  {
   "cell_type": "code",
   "execution_count": 157,
   "id": "d458b78a-cfe6-453c-a1a2-dcac6e7e8a02",
   "metadata": {},
   "outputs": [],
   "source": [
    "class player(character):\n",
    "    items = []\n",
    "    position = 0\n",
    "    endPos = 3\n",
    "    money = 10\n",
    "    def __init__(self, health, power):\n",
    "        character.__init__(self, health, power)\n",
    "    def advance(self):\n",
    "        if self.position < self.endPos:\n",
    "            self.position += 1\n",
    "            print(\"you advanced\")\n",
    "        else:\n",
    "            print(\"Can't advance further\")\n",
    "    def retreat(self):\n",
    "        if self.position >= 1:\n",
    "            self.position -=1\n",
    "            print(\"you went back\")\n",
    "        else:\n",
    "            print(\"There is no other place to go\")\n",
    "    def locate(self):\n",
    "        return self.position\n",
    "    def buy(self):\n",
    "        if self.locate() == 0:\n",
    "            return self.money\n",
    "    def fight(self):\n",
    "        return self.power\n",
    "    def setItems(self, value):\n",
    "        self.items.append(value)\n",
    "    def getItems(self):\n",
    "        return self.items"
   ]
  },
  {
   "cell_type": "code",
   "execution_count": 158,
   "id": "4cf66a8f-170f-4d77-ac40-183fa60fc658",
   "metadata": {},
   "outputs": [
    {
     "name": "stdout",
     "output_type": "stream",
     "text": [
      "Health: 200, power: 210\n",
      "you advanced\n"
     ]
    },
    {
     "data": {
      "text/plain": [
       "1"
      ]
     },
     "execution_count": 158,
     "metadata": {},
     "output_type": "execute_result"
    }
   ],
   "source": [
    "#test\n",
    "p1 = player(200, 210)\n",
    "p1.display()\n",
    "p1.advance()\n",
    "p1.locate()"
   ]
  },
  {
   "cell_type": "code",
   "execution_count": 159,
   "id": "81f64fec-15fb-4cfe-a6eb-c47bd0e1e272",
   "metadata": {},
   "outputs": [],
   "source": [
    "p1.setItems(\"hasbrown\")"
   ]
  },
  {
   "cell_type": "code",
   "execution_count": 160,
   "id": "91c23e8d-7cd8-4444-bfd1-c465457e951e",
   "metadata": {},
   "outputs": [
    {
     "data": {
      "text/plain": [
       "['hasbrown']"
      ]
     },
     "execution_count": 160,
     "metadata": {},
     "output_type": "execute_result"
    }
   ],
   "source": [
    "p1.getItems()"
   ]
  },
  {
   "cell_type": "code",
   "execution_count": 161,
   "id": "3aeeb507-0f0f-459d-9356-67ca45357caa",
   "metadata": {},
   "outputs": [
    {
     "name": "stdout",
     "output_type": "stream",
     "text": [
      "you advanced\n"
     ]
    }
   ],
   "source": [
    "p1.advance()"
   ]
  },
  {
   "cell_type": "code",
   "execution_count": 162,
   "id": "38759418-b346-4f02-8273-e7d6ad2e6105",
   "metadata": {},
   "outputs": [
    {
     "data": {
      "text/plain": [
       "2"
      ]
     },
     "execution_count": 162,
     "metadata": {},
     "output_type": "execute_result"
    }
   ],
   "source": [
    "p1.locate()"
   ]
  },
  {
   "cell_type": "code",
   "execution_count": 163,
   "id": "b1960d74-d159-4720-bebc-093e6ad5264c",
   "metadata": {},
   "outputs": [],
   "source": [
    "class alien(character):\n",
    "    \n",
    "    def __init__(self, health, power, name):\n",
    "        character.__init__(self, health, power)\n",
    "        self.__name = name\n",
    "        \n",
    "    def getName(self):\n",
    "        return self.__name"
   ]
  },
  {
   "cell_type": "code",
   "execution_count": 164,
   "id": "ea6e3377-c139-4c57-a780-7869ead07c6c",
   "metadata": {},
   "outputs": [],
   "source": [
    "#test\n",
    "a1 = alien(50, 51,\"alien scientist\")"
   ]
  },
  {
   "cell_type": "code",
   "execution_count": 165,
   "id": "f954439a-e428-42a8-9a16-e0ea69416f10",
   "metadata": {},
   "outputs": [
    {
     "name": "stdout",
     "output_type": "stream",
     "text": [
      "Health: 50, power: 51\n"
     ]
    }
   ],
   "source": [
    "a1.display()"
   ]
  },
  {
   "cell_type": "code",
   "execution_count": 166,
   "id": "f414c620-f43e-4b75-b009-7c72bb372dc9",
   "metadata": {},
   "outputs": [
    {
     "data": {
      "text/plain": [
       "'alien scientist'"
      ]
     },
     "execution_count": 166,
     "metadata": {},
     "output_type": "execute_result"
    }
   ],
   "source": [
    "a1.getName()"
   ]
  },
  {
   "cell_type": "code",
   "execution_count": 167,
   "id": "b7162507-e580-42e4-b32f-b110fed5e198",
   "metadata": {},
   "outputs": [],
   "source": [
    "class scene():\n",
    "    __status = 1 # 1 is locked, 0 is unlocked\n",
    "    def __init__(self, location, lines):\n",
    "        self.__location = location\n",
    "        self.__lines = lines\n",
    "    def getLoc(self):\n",
    "        return self.__location\n",
    "    def getlines(self):\n",
    "        return self.__lines"
   ]
  },
  {
   "cell_type": "code",
   "execution_count": 168,
   "id": "c8ba9951-1b67-4305-9a1a-e8767d9f6d15",
   "metadata": {},
   "outputs": [],
   "source": [
    "class level(scene):\n",
    "    def __init__(self, location, lines, alien):\n",
    "        scene.__init__(self, location, lines)\n",
    "        self.alien = alien\n",
    "    def unlock(self):\n",
    "        self.setStatus(0)\n",
    "    def getStatus(self):\n",
    "        return self.__status\n",
    "    def setStatus(self, value):\n",
    "        self.__status = value\n",
    "    def isLocked(self):\n",
    "        return self.getStatus == 0\n",
    "    def getAlien(self):\n",
    "        return self.alien.getName()\n",
    "    def locate(self):\n",
    "        return "
   ]
  },
  {
   "cell_type": "code",
   "execution_count": 169,
   "id": "a71dcc38-91ac-478a-a1e5-f1e3426ba75c",
   "metadata": {},
   "outputs": [],
   "source": [
    "cr1 = level(1, \"this is level 1\", alien(100, 50, \"alien scientist\"))"
   ]
  },
  {
   "cell_type": "code",
   "execution_count": 170,
   "id": "87aec40a-ceca-4230-8251-6288d29f7b12",
   "metadata": {},
   "outputs": [],
   "source": [
    "cr1.unlock()"
   ]
  },
  {
   "cell_type": "code",
   "execution_count": 171,
   "id": "d2012257-1449-46f4-be84-4b1978c32856",
   "metadata": {},
   "outputs": [
    {
     "data": {
      "text/plain": [
       "0"
      ]
     },
     "execution_count": 171,
     "metadata": {},
     "output_type": "execute_result"
    }
   ],
   "source": [
    "cr1.getStatus()"
   ]
  },
  {
   "cell_type": "code",
   "execution_count": 172,
   "id": "bbb9da7d-b0df-432b-b1e1-036d1c0d68d0",
   "metadata": {},
   "outputs": [
    {
     "data": {
      "text/plain": [
       "False"
      ]
     },
     "execution_count": 172,
     "metadata": {},
     "output_type": "execute_result"
    }
   ],
   "source": [
    "cr1.isLocked()"
   ]
  },
  {
   "cell_type": "code",
   "execution_count": 173,
   "id": "aa2684a5-d2e7-47de-b4ca-04ecfa00b73b",
   "metadata": {},
   "outputs": [
    {
     "data": {
      "text/plain": [
       "'this is level 1'"
      ]
     },
     "execution_count": 173,
     "metadata": {},
     "output_type": "execute_result"
    }
   ],
   "source": [
    "cr1.getlines()"
   ]
  },
  {
   "cell_type": "code",
   "execution_count": 174,
   "id": "91a9094a-65d5-4e12-9e47-2c5a7ffb756c",
   "metadata": {},
   "outputs": [
    {
     "data": {
      "text/plain": [
       "'alien scientist'"
      ]
     },
     "execution_count": 174,
     "metadata": {},
     "output_type": "execute_result"
    }
   ],
   "source": [
    "cr1.getAlien()"
   ]
  },
  {
   "cell_type": "code",
   "execution_count": 175,
   "id": "a9ac6c0f-e2f5-4acc-9d38-bcea85c79781",
   "metadata": {},
   "outputs": [],
   "source": [
    "class timHortons(level):\n",
    "    items = {\"sausage farmer's wrap\": 9, \"maple bacon bagel belt\": 10, \"hash brown\": 3}\n",
    "    def __init__(self, location, lines):\n",
    "        scene.__init__(self, location, lines)\n",
    "        self.satus = 0\n",
    "    def sell(self):\n",
    "        return self.items\n",
    "        \n",
    "    "
   ]
  },
  {
   "cell_type": "code",
   "execution_count": 176,
   "id": "a33b7156-1c88-41f0-bfd4-2f3777a481cb",
   "metadata": {},
   "outputs": [],
   "source": [
    "t1= timHortons(0,\"you are in tim's\")"
   ]
  },
  {
   "cell_type": "code",
   "execution_count": 177,
   "id": "b6b2d3b1-a609-4111-b888-a10ae632b549",
   "metadata": {},
   "outputs": [
    {
     "data": {
      "text/plain": [
       "False"
      ]
     },
     "execution_count": 177,
     "metadata": {},
     "output_type": "execute_result"
    }
   ],
   "source": [
    "t1.isLocked()"
   ]
  },
  {
   "cell_type": "code",
   "execution_count": 178,
   "id": "4c194886-4f8f-4250-b42d-28e5599cdc07",
   "metadata": {},
   "outputs": [
    {
     "data": {
      "text/plain": [
       "0"
      ]
     },
     "execution_count": 178,
     "metadata": {},
     "output_type": "execute_result"
    }
   ],
   "source": [
    "t1.getLoc()"
   ]
  },
  {
   "cell_type": "code",
   "execution_count": 179,
   "id": "460cc759-9519-49c7-8426-a5a85ad8e089",
   "metadata": {},
   "outputs": [
    {
     "data": {
      "text/plain": [
       "\"you are in tim's\""
      ]
     },
     "execution_count": 179,
     "metadata": {},
     "output_type": "execute_result"
    }
   ],
   "source": [
    "t1.getlines()"
   ]
  },
  {
   "cell_type": "code",
   "execution_count": 180,
   "id": "a3647384-f902-4113-9b15-03326da6e924",
   "metadata": {},
   "outputs": [
    {
     "data": {
      "text/plain": [
       "9"
      ]
     },
     "execution_count": 180,
     "metadata": {},
     "output_type": "execute_result"
    }
   ],
   "source": [
    "t1.sell()[\"sausage farmer's wrap\"]"
   ]
  },
  {
   "cell_type": "code",
   "execution_count": 181,
   "id": "88425f29-b2d0-4b2a-a2ee-aa9d8597fec2",
   "metadata": {},
   "outputs": [],
   "source": [
    "class play():\n",
    "    script0 = \"\"\"\n",
    "        It is an ordinary day in the MDS program, you finished the morning classes\n",
    "        and went to Tim Hortons for lunch. All of a sudden, you hear a big bang sound\n",
    "        tearing through the sky. You looked up, UFOs! Alien vessels are hovering over the\n",
    "        science building, aliens are landing on the roof! People around you started screaming\n",
    "        and running. You suddenly realized something important, your laptop is still in the building,\n",
    "        and you haven't submitted the lab in it! You need to go get your laptop!\n",
    "        \n",
    "        You are at Tim Hortons\n",
    "        What is your next move?\n",
    "        1) advance   2) retreat 4) buy something#todo 0) exit\n",
    "        \"\"\"\n",
    "    def __init__(self):\n",
    "        self.p1 = player(200, 110)\n",
    "        self.tim = timHortons(0, \"you are in tim's\")\n",
    "        self.a1 = alien(100, 50, \"alien scientist\")\n",
    "        self.a2 = alien(120, 80, \"alien infantry soldier\")\n",
    "        self.a3 = alien(150, 100, \"alien elite commando\")\n",
    "        self.cr1 = level(1, \"you are at the first floor of the science building\", self.a1)\n",
    "        self.cr2 = level(2, \"you are at the 2nd floor\", self.a2)\n",
    "        self.cr3 = level(3, \"you are at the third floor, entering the class room\", self.a3)\n",
    "        self.map = [self.tim, self.cr1, self.cr2, self.cr3]\n",
    "    \n",
    "    def buyItem(self, name):\n",
    "        itemPrice = self.tim.sell()[name]\n",
    "        if self.p1.buy() >= itemPrice:\n",
    "            self.p1.setItems(name)\n",
    "            \n",
    "        \n",
    "    def play(self):\n",
    "        command = 0\n",
    "        print(self.script0)\n",
    "        while 1:\n",
    "            self.p1.display()\n",
    "            command = int(input(\"what is your next step?\"))\n",
    "            if command == 1:\n",
    "                self.p1.advance()\n",
    "                for r in self.map:\n",
    "                    if r.getLoc() == self.p1.locate():\n",
    "                        print(\"\"\"\n",
    "                        {}, \n",
    "                        you found an {} staring at you\"\"\".format(r.getlines(), r.getAlien()))\n",
    "            elif command == 2:\n",
    "                self.p1.retreat()\n",
    "                for r in self.map:\n",
    "                    if r.getLoc() == self.p1.locate():\n",
    "                        print(r.getlines())\n",
    "            elif command == 0:\n",
    "                print(\"game over\")\n",
    "                break\n",
    "            elif command == 3:\n",
    "                name = input(\"\"\"What do you want to buy?\n",
    "                 {}\"\"\".format(self.tim.sell()))\n",
    "                self.buyItem(name)\n",
    "            \n",
    "        "
   ]
  },
  {
   "cell_type": "code",
   "execution_count": 182,
   "id": "a4eebac2-7add-466d-8169-f87a3df06363",
   "metadata": {},
   "outputs": [
    {
     "name": "stdout",
     "output_type": "stream",
     "text": [
      "\n",
      "        It is an ordinary day in the MDS program, you finished the morning classes\n",
      "        and went to Tim Hortons for lunch. All of a sudden, you hear a big bang sound\n",
      "        tearing through the sky. You looked up, UFOs! Alien vessels are hovering over the\n",
      "        science building, aliens are landing on the roof! People around you started screaming\n",
      "        and running. You suddenly realized something important, your laptop is still in the building,\n",
      "        and you haven't submitted the lab in it! You need to go get your laptop!\n",
      "        \n",
      "        You are at Tim Hortons\n",
      "        What is your next move?\n",
      "        1) advance   2) retreat 4) buy something#todo 0) exit\n",
      "        \n",
      "Health: 200, power: 110\n"
     ]
    },
    {
     "name": "stdin",
     "output_type": "stream",
     "text": [
      "what is your next step? 1\n"
     ]
    },
    {
     "name": "stdout",
     "output_type": "stream",
     "text": [
      "you advanced\n",
      "\n",
      "                        you are at the first floor of the science building, \n",
      "                        you found an alien scientist staring at you\n",
      "Health: 200, power: 110\n"
     ]
    },
    {
     "name": "stdin",
     "output_type": "stream",
     "text": [
      "what is your next step? 2\n"
     ]
    },
    {
     "name": "stdout",
     "output_type": "stream",
     "text": [
      "you went back\n",
      "you are in tim's\n",
      "Health: 200, power: 110\n"
     ]
    },
    {
     "name": "stdin",
     "output_type": "stream",
     "text": [
      "what is your next step? 1\n"
     ]
    },
    {
     "name": "stdout",
     "output_type": "stream",
     "text": [
      "you advanced\n",
      "\n",
      "                        you are at the first floor of the science building, \n",
      "                        you found an alien scientist staring at you\n",
      "Health: 200, power: 110\n"
     ]
    },
    {
     "name": "stdin",
     "output_type": "stream",
     "text": [
      "what is your next step? 1\n"
     ]
    },
    {
     "name": "stdout",
     "output_type": "stream",
     "text": [
      "you advanced\n",
      "\n",
      "                        you are at the 2nd floor, \n",
      "                        you found an alien infantry soldier staring at you\n",
      "Health: 200, power: 110\n"
     ]
    },
    {
     "name": "stdin",
     "output_type": "stream",
     "text": [
      "what is your next step? 1\n"
     ]
    },
    {
     "name": "stdout",
     "output_type": "stream",
     "text": [
      "you advanced\n",
      "\n",
      "                        you are at the third floor, entering the class room, \n",
      "                        you found an alien elite commando staring at you\n",
      "Health: 200, power: 110\n"
     ]
    },
    {
     "name": "stdin",
     "output_type": "stream",
     "text": [
      "what is your next step? 0\n"
     ]
    },
    {
     "name": "stdout",
     "output_type": "stream",
     "text": [
      "game over\n"
     ]
    }
   ],
   "source": [
    "# main\n",
    "play = play()\n",
    "play.play()"
   ]
  },
  {
   "cell_type": "code",
   "execution_count": null,
   "id": "d97bc333-1474-4328-aad6-22cd52688e9d",
   "metadata": {},
   "outputs": [],
   "source": []
  }
 ],
 "metadata": {
  "kernelspec": {
   "display_name": "Python 3 (ipykernel)",
   "language": "python",
   "name": "python3"
  },
  "language_info": {
   "codemirror_mode": {
    "name": "ipython",
    "version": 3
   },
   "file_extension": ".py",
   "mimetype": "text/x-python",
   "name": "python",
   "nbconvert_exporter": "python",
   "pygments_lexer": "ipython3",
   "version": "3.9.12"
  }
 },
 "nbformat": 4,
 "nbformat_minor": 5
}
