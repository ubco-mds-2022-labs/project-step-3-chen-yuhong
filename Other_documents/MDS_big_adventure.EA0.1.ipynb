{
 "cells": [
  {
   "cell_type": "code",
   "execution_count": 118,
   "id": "7179088e-1fdf-482f-99f4-3b439815e0be",
   "metadata": {},
   "outputs": [],
   "source": [
    "class character():\n",
    "    items = []\n",
    "    def __init__(self, health, power):\n",
    "        self.health = health\n",
    "        self.power = power\n",
    "    def display(self):\n",
    "        return \"Health: {}, power: {}\".format(self.health, self.power)\n",
    "    def fight(self):\n",
    "        return self.power #todo: modified by items somehow\n",
    "    def setItems(self, value):\n",
    "        self.items.append(value)\n",
    "    def getItems(self):\n",
    "        return self.items"
   ]
  },
  {
   "cell_type": "code",
   "execution_count": 119,
   "id": "664d2fee-cebf-46fa-87a1-721f13bdd3d8",
   "metadata": {},
   "outputs": [
    {
     "data": {
      "text/plain": [
       "'Health: 100, power: 110'"
      ]
     },
     "execution_count": 119,
     "metadata": {},
     "output_type": "execute_result"
    }
   ],
   "source": [
    "#test\n",
    "c1 = character(100, 110)\n",
    "c1.display()"
   ]
  },
  {
   "cell_type": "code",
   "execution_count": 120,
   "id": "d458b78a-cfe6-453c-a1a2-dcac6e7e8a02",
   "metadata": {},
   "outputs": [],
   "source": [
    "class player(character):\n",
    "    position = 0\n",
    "    endPos = 3\n",
    "    money = 10\n",
    "    def __init__(self, health, power):\n",
    "        character.__init__(self, health, power)\n",
    "    def advance(self):\n",
    "        if self.position < self.endPos:\n",
    "            self.position += 1\n",
    "            print(\"you advanced\")\n",
    "        else:\n",
    "            print(\"Can't advance further\")\n",
    "    def retreat(self):\n",
    "        if self.position >= 1:\n",
    "            self.position -=1\n",
    "            print(\"you went back\")\n",
    "        else:\n",
    "            print(\"There is no other place to go\")\n",
    "    def locate(self):\n",
    "        return self.position\n",
    "    def buy(self):\n",
    "        if self.locate() == 0:\n",
    "            return self.money\n",
    "    def defeat(self):\n",
    "        print(\n",
    "        \"\"\"You lost consciousness\n",
    "        You woke up in bed, covered in sweat.\n",
    "        It was just a bad dream. You looked at your phone, it is 9:15 am.\n",
    "        Time to go to class...\n",
    "        \"\"\")\n",
    "        self.postion = 0\n",
    "        print(\n",
    "        \"\"\"\n",
    "        It is an ordinary day in the MDS program, you finished the morning classes\n",
    "        and went to Tim Hortons for lunch. All of a sudden, you hear a big bang sound\n",
    "        tearing through the sky. You looked up, UFOs! Alien vessels are hovering over the\n",
    "        science building, aliens are landing on the roof! People around you started screaming\n",
    "        and running. You suddenly realized something important, your laptop is still in the building,\n",
    "        and you haven't submitted the lab in it! You need to go get your laptop!\n",
    "        \n",
    "        You are at Tim Hortons\n",
    "        What is your next move?\n",
    "        1) advance 2) retreat 3) buy item 4) fight 0) exit\n",
    "        \"\"\")"
   ]
  },
  {
   "cell_type": "code",
   "execution_count": 121,
   "id": "4cf66a8f-170f-4d77-ac40-183fa60fc658",
   "metadata": {},
   "outputs": [
    {
     "name": "stdout",
     "output_type": "stream",
     "text": [
      "you advanced\n"
     ]
    },
    {
     "data": {
      "text/plain": [
       "1"
      ]
     },
     "execution_count": 121,
     "metadata": {},
     "output_type": "execute_result"
    }
   ],
   "source": [
    "#test\n",
    "p1 = player(200, 210)\n",
    "p1.display()\n",
    "p1.advance()\n",
    "p1.locate()"
   ]
  },
  {
   "cell_type": "code",
   "execution_count": 122,
   "id": "81f64fec-15fb-4cfe-a6eb-c47bd0e1e272",
   "metadata": {},
   "outputs": [],
   "source": [
    "p1.setItems(\"hashbrown\")"
   ]
  },
  {
   "cell_type": "code",
   "execution_count": 123,
   "id": "91c23e8d-7cd8-4444-bfd1-c465457e951e",
   "metadata": {},
   "outputs": [
    {
     "data": {
      "text/plain": [
       "['hashbrown']"
      ]
     },
     "execution_count": 123,
     "metadata": {},
     "output_type": "execute_result"
    }
   ],
   "source": [
    "p1.getItems()"
   ]
  },
  {
   "cell_type": "code",
   "execution_count": 124,
   "id": "3aeeb507-0f0f-459d-9356-67ca45357caa",
   "metadata": {},
   "outputs": [
    {
     "name": "stdout",
     "output_type": "stream",
     "text": [
      "you advanced\n"
     ]
    }
   ],
   "source": [
    "p1.advance()"
   ]
  },
  {
   "cell_type": "code",
   "execution_count": 125,
   "id": "38759418-b346-4f02-8273-e7d6ad2e6105",
   "metadata": {},
   "outputs": [
    {
     "data": {
      "text/plain": [
       "2"
      ]
     },
     "execution_count": 125,
     "metadata": {},
     "output_type": "execute_result"
    }
   ],
   "source": [
    "p1.locate()"
   ]
  },
  {
   "cell_type": "code",
   "execution_count": 126,
   "id": "0b1bd3f1-0880-4ac7-98a7-81f726549294",
   "metadata": {},
   "outputs": [
    {
     "data": {
      "text/plain": [
       "'Health: 200, power: 210'"
      ]
     },
     "execution_count": 126,
     "metadata": {},
     "output_type": "execute_result"
    }
   ],
   "source": [
    "p1.display()"
   ]
  },
  {
   "cell_type": "code",
   "execution_count": 127,
   "id": "5c6f7d6b-7830-4adc-a1be-98c604d6aea4",
   "metadata": {},
   "outputs": [
    {
     "name": "stdout",
     "output_type": "stream",
     "text": [
      "You lost consciousness\n",
      "        You woke up in bed, covered in sweat.\n",
      "        It was just a bad dream. You looked at your phone, it is 9:15 am.\n",
      "        Time to go to class...\n",
      "        \n",
      "\n",
      "        It is an ordinary day in the MDS program, you finished the morning classes\n",
      "        and went to Tim Hortons for lunch. All of a sudden, you hear a big bang sound\n",
      "        tearing through the sky. You looked up, UFOs! Alien vessels are hovering over the\n",
      "        science building, aliens are landing on the roof! People around you started screaming\n",
      "        and running. You suddenly realized something important, your laptop is still in the building,\n",
      "        and you haven't submitted the lab in it! You need to go get your laptop!\n",
      "        \n",
      "        You are at Tim Hortons\n",
      "        What is your next move?\n",
      "        1) advance 2) retreat 3) buy item 4) fight 0) exit\n",
      "        \n"
     ]
    }
   ],
   "source": [
    "p1.defeat()"
   ]
  },
  {
   "cell_type": "code",
   "execution_count": 128,
   "id": "b1960d74-d159-4720-bebc-093e6ad5264c",
   "metadata": {},
   "outputs": [],
   "source": [
    "class alien(character):\n",
    "    def __init__(self, health, power, name):\n",
    "        character.__init__(self, health, power)\n",
    "        self.__name = name\n",
    "        \n",
    "    def getName(self):\n",
    "        return self.__name\n",
    "    def setName(self, string):\n",
    "        self.__name = string\n",
    "    def die(self):\n",
    "        self.health = 0\n",
    "        self.power = 0\n",
    "        self.setName(\"alien dead body\")\n",
    "    def isdead(self):\n",
    "        return self.health == 0"
   ]
  },
  {
   "cell_type": "code",
   "execution_count": 129,
   "id": "ea6e3377-c139-4c57-a780-7869ead07c6c",
   "metadata": {},
   "outputs": [],
   "source": [
    "#test\n",
    "a1 = alien(50, 51,\"alien scientist\")"
   ]
  },
  {
   "cell_type": "code",
   "execution_count": 130,
   "id": "17ee7aaa-20f8-4e2b-a793-42cfbbb92ba9",
   "metadata": {},
   "outputs": [
    {
     "data": {
      "text/plain": [
       "False"
      ]
     },
     "execution_count": 130,
     "metadata": {},
     "output_type": "execute_result"
    }
   ],
   "source": [
    "a1.isdead()"
   ]
  },
  {
   "cell_type": "code",
   "execution_count": 131,
   "id": "f954439a-e428-42a8-9a16-e0ea69416f10",
   "metadata": {},
   "outputs": [
    {
     "data": {
      "text/plain": [
       "'Health: 50, power: 51'"
      ]
     },
     "execution_count": 131,
     "metadata": {},
     "output_type": "execute_result"
    }
   ],
   "source": [
    "a1.display()"
   ]
  },
  {
   "cell_type": "code",
   "execution_count": 132,
   "id": "f414c620-f43e-4b75-b009-7c72bb372dc9",
   "metadata": {},
   "outputs": [
    {
     "data": {
      "text/plain": [
       "'alien scientist'"
      ]
     },
     "execution_count": 132,
     "metadata": {},
     "output_type": "execute_result"
    }
   ],
   "source": [
    "a1.getName()"
   ]
  },
  {
   "cell_type": "code",
   "execution_count": 133,
   "id": "c8ba9951-1b67-4305-9a1a-e8767d9f6d15",
   "metadata": {},
   "outputs": [],
   "source": [
    "class level():\n",
    "    __status = 0\n",
    "    __locked = 1\n",
    "    def __init__(self, location, lines, alien):\n",
    "        self.__location = location\n",
    "        self.__lines = lines\n",
    "        self.__alien = alien\n",
    "        \n",
    "    def getLoc(self):\n",
    "        return self.__location\n",
    "    def visit(self):\n",
    "        self.__status = 1\n",
    "    def getStatus(self):\n",
    "        return self.__status\n",
    "    def isVisited(self):\n",
    "        return self.__status == 0\n",
    "    def getAlien(self):\n",
    "        return self.__alien\n",
    "    \n",
    "    \n",
    "    def getplot(self):\n",
    "        if self.isVisited():\n",
    "            return self.__lines[0]\n",
    "        else:\n",
    "            return self.__lines[1]\n",
    "    def unlock(self):\n",
    "        if self.__alien.isdead():\n",
    "            self.__locked = 0\n",
    "    def islocked(self):\n",
    "        return self.__locked == 1"
   ]
  },
  {
   "cell_type": "code",
   "execution_count": 134,
   "id": "a71dcc38-91ac-478a-a1e5-f1e3426ba75c",
   "metadata": {},
   "outputs": [],
   "source": [
    "cr1 = level(1, [\"this is level 1\", \" \"], alien(100, 50, \"alien scientist\"))"
   ]
  },
  {
   "cell_type": "code",
   "execution_count": 135,
   "id": "917ff298-d0ca-4795-94f2-5fdc55f970e6",
   "metadata": {},
   "outputs": [
    {
     "data": {
      "text/plain": [
       "True"
      ]
     },
     "execution_count": 135,
     "metadata": {},
     "output_type": "execute_result"
    }
   ],
   "source": [
    "cr1.unlock()\n",
    "cr1.islocked()"
   ]
  },
  {
   "cell_type": "code",
   "execution_count": 136,
   "id": "497a00bb-3641-4556-812d-a3dd5f1a462e",
   "metadata": {},
   "outputs": [
    {
     "data": {
      "text/plain": [
       "True"
      ]
     },
     "execution_count": 136,
     "metadata": {},
     "output_type": "execute_result"
    }
   ],
   "source": [
    "cr1.islocked()"
   ]
  },
  {
   "cell_type": "code",
   "execution_count": 137,
   "id": "3c6de5e6-2b4f-4767-8e4f-66b5e653888d",
   "metadata": {},
   "outputs": [
    {
     "data": {
      "text/plain": [
       "False"
      ]
     },
     "execution_count": 137,
     "metadata": {},
     "output_type": "execute_result"
    }
   ],
   "source": [
    "cr1.getAlien().die()\n",
    "cr1.unlock()\n",
    "cr1.islocked()"
   ]
  },
  {
   "cell_type": "code",
   "execution_count": 138,
   "id": "39480dff-2669-4119-b8c1-c9bb32a89bf7",
   "metadata": {},
   "outputs": [
    {
     "data": {
      "text/plain": [
       "True"
      ]
     },
     "execution_count": 138,
     "metadata": {},
     "output_type": "execute_result"
    }
   ],
   "source": [
    "cr1.isVisited()"
   ]
  },
  {
   "cell_type": "code",
   "execution_count": 139,
   "id": "aa2684a5-d2e7-47de-b4ca-04ecfa00b73b",
   "metadata": {},
   "outputs": [
    {
     "data": {
      "text/plain": [
       "'this is level 1'"
      ]
     },
     "execution_count": 139,
     "metadata": {},
     "output_type": "execute_result"
    }
   ],
   "source": [
    "cr1.getplot()"
   ]
  },
  {
   "cell_type": "code",
   "execution_count": 140,
   "id": "91a9094a-65d5-4e12-9e47-2c5a7ffb756c",
   "metadata": {},
   "outputs": [
    {
     "data": {
      "text/plain": [
       "<__main__.alien at 0x22d70bdb160>"
      ]
     },
     "execution_count": 140,
     "metadata": {},
     "output_type": "execute_result"
    }
   ],
   "source": [
    "cr1.getAlien()"
   ]
  },
  {
   "cell_type": "code",
   "execution_count": 141,
   "id": "a9ac6c0f-e2f5-4acc-9d38-bcea85c79781",
   "metadata": {},
   "outputs": [],
   "source": [
    "class timHortons(level):\n",
    "    items = {\"sausage farmer's wrap\": 9, \"maple bacon bagel belt\": 10, \"hash brown\": 3}\n",
    "    def __init__(self, location, lines, alien):\n",
    "        level.__init__(self, location, lines, alien)\n",
    "        self.visit()\n",
    "        self.unlock()\n",
    "    def sell(self):\n",
    "        return self.items\n",
    "    #def checkStock():\n",
    "        \n",
    "        \n",
    "    "
   ]
  },
  {
   "cell_type": "code",
   "execution_count": 142,
   "id": "a33b7156-1c88-41f0-bfd4-2f3777a481cb",
   "metadata": {},
   "outputs": [],
   "source": [
    "t1= timHortons(0,[\"you are in tim's\",\"you are in tim's\"], alien(0,0,\"dead\"))"
   ]
  },
  {
   "cell_type": "code",
   "execution_count": 143,
   "id": "d33e6e39-99af-427b-9a64-8fa7b74613b6",
   "metadata": {},
   "outputs": [
    {
     "name": "stdout",
     "output_type": "stream",
     "text": [
      "<__main__.alien object at 0x0000022D6E65ADF0>\n"
     ]
    }
   ],
   "source": [
    "print(t1.getAlien())"
   ]
  },
  {
   "cell_type": "code",
   "execution_count": 144,
   "id": "8c2011f9-56ef-4942-a9bc-39f765004827",
   "metadata": {},
   "outputs": [
    {
     "data": {
      "text/plain": [
       "False"
      ]
     },
     "execution_count": 144,
     "metadata": {},
     "output_type": "execute_result"
    }
   ],
   "source": [
    "t1.islocked()"
   ]
  },
  {
   "cell_type": "code",
   "execution_count": 145,
   "id": "4c194886-4f8f-4250-b42d-28e5599cdc07",
   "metadata": {},
   "outputs": [
    {
     "data": {
      "text/plain": [
       "0"
      ]
     },
     "execution_count": 145,
     "metadata": {},
     "output_type": "execute_result"
    }
   ],
   "source": [
    "t1.getLoc()"
   ]
  },
  {
   "cell_type": "code",
   "execution_count": 146,
   "id": "460cc759-9519-49c7-8426-a5a85ad8e089",
   "metadata": {},
   "outputs": [
    {
     "data": {
      "text/plain": [
       "\"you are in tim's\""
      ]
     },
     "execution_count": 146,
     "metadata": {},
     "output_type": "execute_result"
    }
   ],
   "source": [
    "t1.getplot()"
   ]
  },
  {
   "cell_type": "code",
   "execution_count": 147,
   "id": "a3647384-f902-4113-9b15-03326da6e924",
   "metadata": {},
   "outputs": [
    {
     "data": {
      "text/plain": [
       "9"
      ]
     },
     "execution_count": 147,
     "metadata": {},
     "output_type": "execute_result"
    }
   ],
   "source": [
    "t1.sell()[\"sausage farmer's wrap\"]"
   ]
  },
  {
   "cell_type": "code",
   "execution_count": 148,
   "id": "0cafae97-7baa-4689-aff4-11d2fac5fcf7",
   "metadata": {},
   "outputs": [],
   "source": [
    "class item():\n",
    "    def __init__(self, name, hp, po, price):\n",
    "        self.__name = name\n",
    "        self.__hp = hp\n",
    "        self.__po = po\n",
    "        self.__price = price\n",
    "    def gethp(self):\n",
    "        return self.__hp\n",
    "    def getpo(self):\n",
    "        return self.__po\n",
    "    def getprice(self):\n",
    "        return self.__price\n",
    "    \n",
    "    def addbonus(self, p):\n",
    "        p.health += self.gethp()\n",
    "        p.power += self.getpo()"
   ]
  },
  {
   "cell_type": "code",
   "execution_count": 149,
   "id": "51469fac-6103-41d4-83d5-01613f10a37b",
   "metadata": {},
   "outputs": [],
   "source": [
    "item = item(\"hashbrown\", 10, 10, 3)\n",
    "p2= player(0,0)"
   ]
  },
  {
   "cell_type": "code",
   "execution_count": 150,
   "id": "eccbabc2-82ed-484d-885c-de1431f309be",
   "metadata": {},
   "outputs": [],
   "source": [
    "item.addbonus(p2)"
   ]
  },
  {
   "cell_type": "code",
   "execution_count": 151,
   "id": "c4c39bee-5db6-435d-9ea3-e5786b3ee1f9",
   "metadata": {},
   "outputs": [
    {
     "data": {
      "text/plain": [
       "'Health: 10, power: 10'"
      ]
     },
     "execution_count": 151,
     "metadata": {},
     "output_type": "execute_result"
    }
   ],
   "source": [
    "p2.display()"
   ]
  },
  {
   "cell_type": "code",
   "execution_count": 153,
   "id": "88425f29-b2d0-4b2a-a2ee-aa9d8597fec2",
   "metadata": {},
   "outputs": [],
   "source": [
    "class play():\n",
    "    script0 = \"\"\"\n",
    "        It is an ordinary day in the MDS program, you finished the morning classes\n",
    "        and went to Tim Hortons for lunch. All of a sudden, you hear a big bang sound\n",
    "        tearing through the sky. You looked up, UFOs! Alien vessels are hovering over the\n",
    "        science building, aliens are landing on the roof! People around you started screaming\n",
    "        and running. You suddenly realized something important, your laptop is still in the building,\n",
    "        and you haven't submitted the lab in it! You need to go get your laptop!\n",
    "        \n",
    "        You are at Tim Hortons\n",
    "        What is your next move?\n",
    "        1) advance  2) retreat  3)buy item 4) fight 0) exit\n",
    "        \"\"\"\n",
    "    def __init__(self):\n",
    "        self.p1 = player(200, 200)\n",
    "        self.tim = timHortons(0, [\"you are in tim's\",\"you are in tim's\"], alien(0,0,\"place holder\"))\n",
    "        self.a1 = alien(100, 50, \"alien scientist\")\n",
    "        self.a2 = alien(120, 80, \"alien infantry soldier\")\n",
    "        self.a3 = alien(150, 100, \"alien elite commando\")\n",
    "        self.cr1 = level(1, [\"you are at the first floor of the science building\",\"you returned to the first floor\"], self.a1)\n",
    "        self.cr2 = level(2, [\"you are at the 2nd floor\",\"you returned to the second floor\"], self.a2)\n",
    "        self.cr3 = level(3, [\"you are at the third floor, entering the class room\",\"you returned to the class room\"], self.a3)\n",
    "        self.map = [self.tim, self.cr1, self.cr2, self.cr3]\n",
    "    \n",
    "    def buyItem(self, name):\n",
    "        itemPrice = self.tim.sell()[name]\n",
    "        if self.p1.buy() >= itemPrice:\n",
    "            self.p1.setItems(name)\n",
    "    def fight(self):\n",
    "        for r in self.map[1:]:\n",
    "            if r.getLoc() == self.p1.locate():\n",
    "                result = self.p1.fight() - r.getAlien().fight()\n",
    "                if result >= 0:\n",
    "                    print(\"\"\"\n",
    "                       you defeated the alien\"\"\")\n",
    "                    r.getAlien().die()\n",
    "                    r.unlock()\n",
    "                else:\n",
    "                    p1.defeat()\n",
    "    \n",
    "    def win(self):\n",
    "        if self.p1.locate() == 3 and self.cr3.getAlien().health == 0:\n",
    "            print(\"\"\"\n",
    "            You took your laptop from the dead alien commando, it still works! Your lab files are intact!\n",
    "            With its commander dead, the alien vessel fled to the space, they dare not to cross Earth again.\n",
    "            Without further delay, you submitted the lab to canvas and headed back home. Just another day in\n",
    "            the MDS program. -end\n",
    "            You can continue to walk around or 0) just back home\n",
    "            \"\"\")\n",
    "            \n",
    "    def advance(self):\n",
    "        flag = 0\n",
    "        for r in self.map:\n",
    "            if flag == 1:\n",
    "                break\n",
    "            else:\n",
    "                # print(\"checking map 1\")\n",
    "                # print(\"room\",r.getLoc())\n",
    "                # print(\"player\",self.p1.locate())\n",
    "                if r.getLoc() == self.p1.locate():\n",
    "                    flag = 1\n",
    "                    # print(\"check if locked\")\n",
    "                    if r.islocked():\n",
    "                        print(\"as you approach, the alien shouted at you, you can't advance further\")\n",
    "                    else:\n",
    "                        # print(\"door is not locked\")\n",
    "                        self.p1.advance()\n",
    "                        for l in self.map: \n",
    "                            # print(\"checking map 2\")\n",
    "                            if l.getLoc() == self.p1.locate():\n",
    "                                # print(\"player now at\", self.p1.locate())\n",
    "                                # print(\"current room is\",l.getLoc() )\n",
    "                                print(\"\"\"\n",
    "                                    {}, \n",
    "                                    you found an {} ({}) in front of you\n",
    "                                    \"\"\".format(l.getplot(), l.getAlien().getName(), str(l.getAlien().display())))\n",
    "                                l.visit()\n",
    "                            \n",
    "    \n",
    "            \n",
    "    # def isWin(self):\n",
    "    #     if self.p1.locate() == 3 and self.cr3.getAlien().health == 0:\n",
    "    #         return True\n",
    "    #     else:\n",
    "    #         return False\n",
    "        \n",
    "    def play(self):\n",
    "        command = 0\n",
    "        print(self.script0)\n",
    "        while 1:\n",
    "            self.win()\n",
    "            print(self.p1.display())\n",
    "            command = int(input(\"what is your next move?\"))\n",
    "            if command == 1:\n",
    "                self.advance()\n",
    "                #self.p1.advance()\n",
    "                # for r in self.map:\n",
    "                #     if r.getLoc() == self.p1.locate():\n",
    "                #      \n",
    "                #         print(\"\"\"\n",
    "                #         {}, \n",
    "                #         you found an {} ({}) in front of you\n",
    "                #         \"\"\".format(r.getplot(), r.getAlien().getName(), str(r.getAlien().display())))\n",
    "                #         r.visit()\n",
    "            elif command == 2:\n",
    "                self.p1.retreat()\n",
    "                for r in self.map:\n",
    "                    if r.getLoc() == self.p1.locate():\n",
    "                        print(\"\"\"\n",
    "                        {}\n",
    "                        \"\"\".format(r.getplot()))\n",
    "            elif command == 0:\n",
    "                print(\"game over\")\n",
    "                break\n",
    "            elif command == 3:\n",
    "                name = input(\"\"\"What do you want to buy?\n",
    "                 {}\"\"\".format(self.tim.sell()))\n",
    "                self.buyItem(name)\n",
    "                \n",
    "            elif command == 4:\n",
    "                self.fight()\n",
    "            \n",
    "            \n",
    "        "
   ]
  },
  {
   "cell_type": "code",
   "execution_count": 154,
   "id": "902b2bca-1cf8-4d5c-878c-99cb17f322cd",
   "metadata": {},
   "outputs": [
    {
     "name": "stdout",
     "output_type": "stream",
     "text": [
      "\n",
      "        It is an ordinary day in the MDS program, you finished the morning classes\n",
      "        and went to Tim Hortons for lunch. All of a sudden, you hear a big bang sound\n",
      "        tearing through the sky. You looked up, UFOs! Alien vessels are hovering over the\n",
      "        science building, aliens are landing on the roof! People around you started screaming\n",
      "        and running. You suddenly realized something important, your laptop is still in the building,\n",
      "        and you haven't submitted the lab in it! You need to go get your laptop!\n",
      "        \n",
      "        You are at Tim Hortons\n",
      "        What is your next move?\n",
      "        1) advance  2) retreat  3)buy item 4) fight 0) exit\n",
      "        \n",
      "Health: 200, power: 200\n"
     ]
    },
    {
     "name": "stdin",
     "output_type": "stream",
     "text": [
      "what is your next move? 1\n"
     ]
    },
    {
     "name": "stdout",
     "output_type": "stream",
     "text": [
      "you advanced\n",
      "\n",
      "                                    you are at the first floor of the science building, \n",
      "                                    you found an alien scientist (Health: 100, power: 50) in front of you\n",
      "                                    \n",
      "Health: 200, power: 200\n"
     ]
    },
    {
     "name": "stdin",
     "output_type": "stream",
     "text": [
      "what is your next move? 4\n"
     ]
    },
    {
     "name": "stdout",
     "output_type": "stream",
     "text": [
      "\n",
      "                       you defeated the alien\n",
      "Health: 200, power: 200\n"
     ]
    },
    {
     "name": "stdin",
     "output_type": "stream",
     "text": [
      "what is your next move? 4\n"
     ]
    },
    {
     "name": "stdout",
     "output_type": "stream",
     "text": [
      "\n",
      "                       you defeated the alien\n",
      "Health: 200, power: 200\n"
     ]
    },
    {
     "name": "stdin",
     "output_type": "stream",
     "text": [
      "what is your next move? 4\n"
     ]
    },
    {
     "name": "stdout",
     "output_type": "stream",
     "text": [
      "\n",
      "                       you defeated the alien\n",
      "Health: 200, power: 200\n"
     ]
    },
    {
     "name": "stdin",
     "output_type": "stream",
     "text": [
      "what is your next move? 2\n"
     ]
    },
    {
     "name": "stdout",
     "output_type": "stream",
     "text": [
      "you went back\n",
      "\n",
      "                        you are in tim's\n",
      "                        \n",
      "Health: 200, power: 200\n"
     ]
    },
    {
     "name": "stdin",
     "output_type": "stream",
     "text": [
      "what is your next move? 1\n"
     ]
    },
    {
     "name": "stdout",
     "output_type": "stream",
     "text": [
      "you advanced\n",
      "\n",
      "                                    you returned to the first floor, \n",
      "                                    you found an alien dead body (Health: 0, power: 0) in front of you\n",
      "                                    \n",
      "Health: 200, power: 200\n"
     ]
    },
    {
     "name": "stdin",
     "output_type": "stream",
     "text": [
      "what is your next move? 1\n"
     ]
    },
    {
     "name": "stdout",
     "output_type": "stream",
     "text": [
      "you advanced\n",
      "\n",
      "                                    you are at the 2nd floor, \n",
      "                                    you found an alien infantry soldier (Health: 120, power: 80) in front of you\n",
      "                                    \n",
      "Health: 200, power: 200\n"
     ]
    },
    {
     "name": "stdin",
     "output_type": "stream",
     "text": [
      "what is your next move? 1\n"
     ]
    },
    {
     "name": "stdout",
     "output_type": "stream",
     "text": [
      "as you approach, the alien shouted at you, you can't advance further\n",
      "Health: 200, power: 200\n"
     ]
    },
    {
     "name": "stdin",
     "output_type": "stream",
     "text": [
      "what is your next move? 1\n"
     ]
    },
    {
     "name": "stdout",
     "output_type": "stream",
     "text": [
      "as you approach, the alien shouted at you, you can't advance further\n",
      "Health: 200, power: 200\n"
     ]
    },
    {
     "name": "stdin",
     "output_type": "stream",
     "text": [
      "what is your next move? 4\n"
     ]
    },
    {
     "name": "stdout",
     "output_type": "stream",
     "text": [
      "\n",
      "                       you defeated the alien\n",
      "Health: 200, power: 200\n"
     ]
    },
    {
     "name": "stdin",
     "output_type": "stream",
     "text": [
      "what is your next move? 1\n"
     ]
    },
    {
     "name": "stdout",
     "output_type": "stream",
     "text": [
      "you advanced\n",
      "\n",
      "                                    you are at the third floor, entering the class room, \n",
      "                                    you found an alien elite commando (Health: 150, power: 100) in front of you\n",
      "                                    \n",
      "Health: 200, power: 200\n"
     ]
    },
    {
     "name": "stdin",
     "output_type": "stream",
     "text": [
      "what is your next move? 4\n"
     ]
    },
    {
     "name": "stdout",
     "output_type": "stream",
     "text": [
      "\n",
      "                       you defeated the alien\n",
      "\n",
      "            You took your laptop from the dead alien commando, it still works! Your lab files are intact!\n",
      "            With its commander dead, the alien vessel fled to the space, they dare not to cross Earth again.\n",
      "            Without further delay, you submitted the lab to canvas and headed back home. Just another day in\n",
      "            the MDS program. -end\n",
      "            You can continue to walk around or 0) just back home\n",
      "            \n",
      "Health: 200, power: 200\n"
     ]
    },
    {
     "name": "stdin",
     "output_type": "stream",
     "text": [
      "what is your next move? 0\n"
     ]
    },
    {
     "name": "stdout",
     "output_type": "stream",
     "text": [
      "game over\n"
     ]
    }
   ],
   "source": [
    "#### main\n",
    "play = play()\n",
    "play.play()"
   ]
  },
  {
   "cell_type": "code",
   "execution_count": null,
   "id": "b984ba17-72cb-40eb-a38a-044434673907",
   "metadata": {},
   "outputs": [],
   "source": []
  }
 ],
 "metadata": {
  "kernelspec": {
   "display_name": "Python 3 (ipykernel)",
   "language": "python",
   "name": "python3"
  },
  "language_info": {
   "codemirror_mode": {
    "name": "ipython",
    "version": 3
   },
   "file_extension": ".py",
   "mimetype": "text/x-python",
   "name": "python",
   "nbconvert_exporter": "python",
   "pygments_lexer": "ipython3",
   "version": "3.9.12"
  }
 },
 "nbformat": 4,
 "nbformat_minor": 5
}
