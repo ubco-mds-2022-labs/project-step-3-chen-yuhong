{
 "cells": [
  {
   "cell_type": "markdown",
   "id": "595cfa16-c9b2-49b5-8ad7-31da04568f8a",
   "metadata": {},
   "source": [
    "# MDS Big Adventure\n",
    "\n",
    "### Description\n",
    "MDS Big Advanture is a text-based game in which the player fights aliens on each level of the science building, buy items from Tim Hortons to improve health and strength, while advancing to the MDS classroom. The story of the game happens on an ordinary day in the MDS program, the player finished the morning classes and went to Tim Hortons for lunch. Suddenly an alien invasion took place, and the science building is occupied with the player’s laptop still in the classroom. The player has to retrieve the laptop in order to submit assignments on time.\n",
    "\n",
    "### Fighting\n",
    "When the player press 4 to engage with the alien, two dice are rolled to simulate random factors in combat, one for the player, the other for the alien. Player and alien's power in the battle is computed based on the equation power*(1+dice/10). The difference between player and alien's power is the damage inflicted to the losing party. \n",
    "\n",
    "### Buying items\n",
    "The player can buy food from Tim Hortons by pressing 3 and key in the food name. The number of each food the player can buy is limited. The player can get a special item in Tim Hortons if they order a particular food more then one time (Note: it may not be on the menu, there are hints in the game). \n",
    "It is recommended to get all the available foods before engaging the alien captain. \n",
    "\n",
    "**Please run the starter code below to start the game**"
   ]
  },
  {
   "cell_type": "code",
   "execution_count": 1,
   "id": "83dc8531-fcfc-4532-b074-c8ccac0beaa4",
   "metadata": {},
   "outputs": [],
   "source": [
    "from MDS_Big_Adventure.play import play"
   ]
  },
  {
   "cell_type": "code",
   "execution_count": 2,
   "id": "166a32ff-6802-4ed8-8338-33ec57df6212",
   "metadata": {},
   "outputs": [],
   "source": [
    "p = play()"
   ]
  },
  {
   "cell_type": "code",
   "execution_count": 3,
   "id": "a0e65f4e-983c-4b8c-8946-71a1aa9db7f3",
   "metadata": {},
   "outputs": [
    {
     "name": "stdout",
     "output_type": "stream",
     "text": [
      "\n",
      "        It is an ordinary day in the MDS program, you finished the morning classes\n",
      "        and went to Tim Hortons for lunch. All of a sudden, you hear a big bang sound\n",
      "        tearing through the sky. You looked up, UFOs! Alien vessels are hovering over the\n",
      "        science building, aliens are landing on the roof! People around you started screaming\n",
      "        and running. You suddenly realized something important, your laptop is still in the building,\n",
      "        and you haven't submitted the lab in it! You need to go get your laptop!\n",
      "        \n",
      "        You are at Tim Hortons\n",
      "        What is your next move?\n",
      "        \n",
      "        \n",
      "____________________________________________________\n",
      "1) advance  2) retreat  3)buy item 4) fight 0) exit\n",
      "('ᴗ') Health: 100 power: 100  Money: 0\n"
     ]
    },
    {
     "name": "stdin",
     "output_type": "stream",
     "text": [
      "what is your next move? 1\n"
     ]
    },
    {
     "name": "stdout",
     "output_type": "stream",
     "text": [
      "\n",
      "                   վ'ᴗ' ի you advanced\n",
      "\n",
      "                                        \n",
      "                                You are on the first floor of the science building\n",
      "                                It is a huge mess. Most of the students have escaped from the building, some are still running around\n",
      "                                looking for the exit. There is one still studying... wait... no... that's not a student!\n",
      "                                A tall scientist looking alien is scanning the papers on the wall. \"#$#^%*&statist*csss, %$#!@$%...\", he is murmuring\n",
      "                                to himself. Apparently, he is stealing, or mocking, the scientific progress of Earth. Either way, you need to\n",
      "                                stop him!  \n",
      "                                        (/ﾟДﾟ)/ you found an alien scientist ((╰_╯) Health: 100 power: 80) in front of you\n",
      "                                        \n",
      "____________________________________________________\n",
      "1) advance  2) retreat  3)buy item 4) fight 0) exit\n",
      "('ᴗ') Health: 100 power: 100  Money: 0\n"
     ]
    },
    {
     "name": "stdin",
     "output_type": "stream",
     "text": [
      "what is your next move? 0\n"
     ]
    },
    {
     "name": "stdout",
     "output_type": "stream",
     "text": [
      "game over\n"
     ]
    }
   ],
   "source": [
    "p.play()"
   ]
  },
  {
   "cell_type": "code",
   "execution_count": null,
   "id": "c975f853-dc01-4b69-a24a-0ad5a0ad4f97",
   "metadata": {},
   "outputs": [],
   "source": []
  }
 ],
 "metadata": {
  "kernelspec": {
   "display_name": "Python 3 (ipykernel)",
   "language": "python",
   "name": "python3"
  },
  "language_info": {
   "codemirror_mode": {
    "name": "ipython",
    "version": 3
   },
   "file_extension": ".py",
   "mimetype": "text/x-python",
   "name": "python",
   "nbconvert_exporter": "python",
   "pygments_lexer": "ipython3",
   "version": "3.9.12"
  }
 },
 "nbformat": 4,
 "nbformat_minor": 5
}
